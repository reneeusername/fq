{
  "nbformat": 4,
  "nbformat_minor": 0,
  "metadata": {
    "colab": {
      "provenance": [],
      "authorship_tag": "ABX9TyMyv5K4fA5pBj1ak52lph8u",
      "include_colab_link": true
    },
    "kernelspec": {
      "name": "python3",
      "display_name": "Python 3"
    },
    "language_info": {
      "name": "python"
    }
  },
  "cells": [
    {
      "cell_type": "markdown",
      "metadata": {
        "id": "view-in-github",
        "colab_type": "text"
      },
      "source": [
        "<a href=\"https://colab.research.google.com/github/wyklq/llmtune/blob/main/llmtune_example.ipynb\" target=\"_parent\"><img src=\"https://colab.research.google.com/assets/colab-badge.svg\" alt=\"Open In Colab\"/></a>"
      ]
    },
    {
      "cell_type": "code",
      "execution_count": null,
      "metadata": {
        "id": "IO9TpdPOp6Wd"
      },
      "outputs": [],
      "source": []
    },
    {
      "cell_type": "markdown",
      "source": [
        "# LLMTune: 4-Bit Finetuning of LLMs on a Consumer GPU\n",
        "# Demo on Google Colab with T4 GPU (16G)\n",
        "##1. Installation\n",
        "\n"
      ],
      "metadata": {
        "id": "iYgd_n4mp_i9"
      }
    },
    {
      "cell_type": "markdown",
      "source": [
        "### pip install -r requirements.txt (Note, pytorch is already installed)"
      ],
      "metadata": {
        "id": "xOOug8-TqumQ"
      }
    },
    {
      "cell_type": "code",
      "source": [
        "!pip install sentencepiece==0.1.97\n",
        "!pip install git+https://github.com/huggingface/transformers@9417c924af539be5f941c8a709a96b60dfe29eb3#egg=transformers\n",
        "!pip install git+https://github.com/huggingface/peft@ff9a1edbfd2d405b86d50a2e5299cc1bbd49d887#egg=peft\n",
        "!pip install datasets==2.10.1"
      ],
      "metadata": {
        "id": "e0Kw7VPSqcGi"
      },
      "execution_count": null,
      "outputs": []
    }
  ]
}