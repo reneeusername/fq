{
  "nbformat": 4,
  "nbformat_minor": 0,
  "metadata": {
    "colab": {
      "provenance": [],
      "gpuType": "T4",
      "authorship_tag": "ABX9TyOoPxmLrb2TzCKoMwBrBt8m",
      "include_colab_link": true
    },
    "kernelspec": {
      "name": "python3",
      "display_name": "Python 3"
    },
    "language_info": {
      "name": "python"
    },
    "accelerator": "GPU",
    "gpuClass": "standard"
  },
  "cells": [
    {
      "cell_type": "markdown",
      "metadata": {
        "id": "view-in-github",
        "colab_type": "text"
      },
      "source": [
        "<a href=\"https://colab.research.google.com/github/wyklq/llmtune/blob/main/llmtune_example.ipynb\" target=\"_parent\"><img src=\"https://colab.research.google.com/assets/colab-badge.svg\" alt=\"Open In Colab\"/></a>"
      ]
    },
    {
      "cell_type": "markdown",
      "source": [
        "# LLMTune: 4-Bit Finetuning of LLMs on a Consumer GPU\n",
        "# Demo on Google Colab with T4 GPU (16G)\n",
        "##1. Installation\n",
        "\n"
      ],
      "metadata": {
        "id": "iYgd_n4mp_i9"
      }
    },
    {
      "cell_type": "markdown",
      "source": [
        "### pip install -r requirements.txt (Note, pytorch is already installed)"
      ],
      "metadata": {
        "id": "xOOug8-TqumQ"
      }
    },
    {
      "cell_type": "code",
      "source": [
        "!pip install sentencepiece==0.1.97\n",
        "!pip install git+https://github.com/huggingface/transformers@9417c924af539be5f941c8a709a96b60dfe29eb3#egg=transformers\n",
        "!pip install git+https://github.com/huggingface/peft@ff9a1edbfd2d405b86d50a2e5299cc1bbd49d887#egg=peft\n",
        "!pip install datasets==2.10.1"
      ],
      "metadata": {
        "colab": {
          "base_uri": "https://localhost:8080/"
        },
        "id": "e0Kw7VPSqcGi",
        "outputId": "d94f93ad-faf7-41be-ca4b-24da39e416a1"
      },
      "execution_count": 1,
      "outputs": [
        {
          "output_type": "stream",
          "name": "stdout",
          "text": [
            "Looking in indexes: https://pypi.org/simple, https://us-python.pkg.dev/colab-wheels/public/simple/\n",
            "Collecting sentencepiece==0.1.97\n",
            "  Downloading sentencepiece-0.1.97-cp310-cp310-manylinux_2_17_x86_64.manylinux2014_x86_64.whl (1.3 MB)\n",
            "\u001b[2K     \u001b[90m━━━━━━━━━━━━━━━━━━━━━━━━━━━━━━━━━━━━━━━━\u001b[0m \u001b[32m1.3/1.3 MB\u001b[0m \u001b[31m20.5 MB/s\u001b[0m eta \u001b[36m0:00:00\u001b[0m\n",
            "\u001b[?25hInstalling collected packages: sentencepiece\n",
            "Successfully installed sentencepiece-0.1.97\n",
            "Looking in indexes: https://pypi.org/simple, https://us-python.pkg.dev/colab-wheels/public/simple/\n",
            "Collecting transformers\n",
            "  Cloning https://github.com/huggingface/transformers (to revision 9417c924af539be5f941c8a709a96b60dfe29eb3) to /tmp/pip-install-1xmbeyzr/transformers_a64f1bff2ca0412199aabcac8c28ac81\n",
            "  Running command git clone --filter=blob:none --quiet https://github.com/huggingface/transformers /tmp/pip-install-1xmbeyzr/transformers_a64f1bff2ca0412199aabcac8c28ac81\n",
            "  Running command git rev-parse -q --verify 'sha^9417c924af539be5f941c8a709a96b60dfe29eb3'\n",
            "  Running command git fetch -q https://github.com/huggingface/transformers 9417c924af539be5f941c8a709a96b60dfe29eb3\n",
            "  Running command git checkout -q 9417c924af539be5f941c8a709a96b60dfe29eb3\n",
            "  Resolved https://github.com/huggingface/transformers to commit 9417c924af539be5f941c8a709a96b60dfe29eb3\n",
            "  Installing build dependencies ... \u001b[?25l\u001b[?25hdone\n",
            "  Getting requirements to build wheel ... \u001b[?25l\u001b[?25hdone\n",
            "  Preparing metadata (pyproject.toml) ... \u001b[?25l\u001b[?25hdone\n",
            "Requirement already satisfied: filelock in /usr/local/lib/python3.10/dist-packages (from transformers) (3.12.0)\n",
            "Collecting huggingface-hub<1.0,>=0.11.0 (from transformers)\n",
            "  Downloading huggingface_hub-0.14.1-py3-none-any.whl (224 kB)\n",
            "\u001b[2K     \u001b[90m━━━━━━━━━━━━━━━━━━━━━━━━━━━━━━━━━━━━━━━\u001b[0m \u001b[32m224.5/224.5 kB\u001b[0m \u001b[31m4.5 MB/s\u001b[0m eta \u001b[36m0:00:00\u001b[0m\n",
            "\u001b[?25hRequirement already satisfied: numpy>=1.17 in /usr/local/lib/python3.10/dist-packages (from transformers) (1.22.4)\n",
            "Requirement already satisfied: packaging>=20.0 in /usr/local/lib/python3.10/dist-packages (from transformers) (23.1)\n",
            "Requirement already satisfied: pyyaml>=5.1 in /usr/local/lib/python3.10/dist-packages (from transformers) (6.0)\n",
            "Requirement already satisfied: regex!=2019.12.17 in /usr/local/lib/python3.10/dist-packages (from transformers) (2022.10.31)\n",
            "Requirement already satisfied: requests in /usr/local/lib/python3.10/dist-packages (from transformers) (2.27.1)\n",
            "Collecting tokenizers!=0.11.3,<0.14,>=0.11.1 (from transformers)\n",
            "  Downloading tokenizers-0.13.3-cp310-cp310-manylinux_2_17_x86_64.manylinux2014_x86_64.whl (7.8 MB)\n",
            "\u001b[2K     \u001b[90m━━━━━━━━━━━━━━━━━━━━━━━━━━━━━━━━━━━━━━━━\u001b[0m \u001b[32m7.8/7.8 MB\u001b[0m \u001b[31m63.2 MB/s\u001b[0m eta \u001b[36m0:00:00\u001b[0m\n",
            "\u001b[?25hRequirement already satisfied: tqdm>=4.27 in /usr/local/lib/python3.10/dist-packages (from transformers) (4.65.0)\n",
            "Requirement already satisfied: fsspec in /usr/local/lib/python3.10/dist-packages (from huggingface-hub<1.0,>=0.11.0->transformers) (2023.4.0)\n",
            "Requirement already satisfied: typing-extensions>=3.7.4.3 in /usr/local/lib/python3.10/dist-packages (from huggingface-hub<1.0,>=0.11.0->transformers) (4.5.0)\n",
            "Requirement already satisfied: urllib3<1.27,>=1.21.1 in /usr/local/lib/python3.10/dist-packages (from requests->transformers) (1.26.15)\n",
            "Requirement already satisfied: certifi>=2017.4.17 in /usr/local/lib/python3.10/dist-packages (from requests->transformers) (2022.12.7)\n",
            "Requirement already satisfied: charset-normalizer~=2.0.0 in /usr/local/lib/python3.10/dist-packages (from requests->transformers) (2.0.12)\n",
            "Requirement already satisfied: idna<4,>=2.5 in /usr/local/lib/python3.10/dist-packages (from requests->transformers) (3.4)\n",
            "Building wheels for collected packages: transformers\n",
            "  Building wheel for transformers (pyproject.toml) ... \u001b[?25l\u001b[?25hdone\n",
            "  Created wheel for transformers: filename=transformers-4.28.0-py3-none-any.whl size=6927815 sha256=7f70c44e5f45d7e20fae7eca3a6f9d962c249200845d8befc61d128c89f17f6d\n",
            "  Stored in directory: /root/.cache/pip/wheels/ff/5b/2f/7252535f5364eba12f41631e5d539c547452d093115022d75f\n",
            "Successfully built transformers\n",
            "Installing collected packages: tokenizers, huggingface-hub, transformers\n",
            "Successfully installed huggingface-hub-0.14.1 tokenizers-0.13.3 transformers-4.28.0\n",
            "Looking in indexes: https://pypi.org/simple, https://us-python.pkg.dev/colab-wheels/public/simple/\n",
            "Collecting peft\n",
            "  Cloning https://github.com/huggingface/peft (to revision ff9a1edbfd2d405b86d50a2e5299cc1bbd49d887) to /tmp/pip-install-s4n94dei/peft_8693070db1694888a7afb01d31771194\n",
            "  Running command git clone --filter=blob:none --quiet https://github.com/huggingface/peft /tmp/pip-install-s4n94dei/peft_8693070db1694888a7afb01d31771194\n",
            "  Running command git rev-parse -q --verify 'sha^ff9a1edbfd2d405b86d50a2e5299cc1bbd49d887'\n",
            "  Running command git fetch -q https://github.com/huggingface/peft ff9a1edbfd2d405b86d50a2e5299cc1bbd49d887\n",
            "  Running command git checkout -q ff9a1edbfd2d405b86d50a2e5299cc1bbd49d887\n",
            "  Resolved https://github.com/huggingface/peft to commit ff9a1edbfd2d405b86d50a2e5299cc1bbd49d887\n",
            "  Installing build dependencies ... \u001b[?25l\u001b[?25hdone\n",
            "  Getting requirements to build wheel ... \u001b[?25l\u001b[?25hdone\n",
            "  Preparing metadata (pyproject.toml) ... \u001b[?25l\u001b[?25hdone\n",
            "Requirement already satisfied: numpy>=1.17 in /usr/local/lib/python3.10/dist-packages (from peft) (1.22.4)\n",
            "Requirement already satisfied: packaging>=20.0 in /usr/local/lib/python3.10/dist-packages (from peft) (23.1)\n",
            "Requirement already satisfied: psutil in /usr/local/lib/python3.10/dist-packages (from peft) (5.9.5)\n",
            "Requirement already satisfied: pyyaml in /usr/local/lib/python3.10/dist-packages (from peft) (6.0)\n",
            "Requirement already satisfied: torch>=1.13.0 in /usr/local/lib/python3.10/dist-packages (from peft) (2.0.1+cu118)\n",
            "Requirement already satisfied: transformers in /usr/local/lib/python3.10/dist-packages (from peft) (4.28.0)\n",
            "Collecting accelerate (from peft)\n",
            "  Downloading accelerate-0.19.0-py3-none-any.whl (219 kB)\n",
            "\u001b[2K     \u001b[90m━━━━━━━━━━━━━━━━━━━━━━━━━━━━━━━━━━━━━━━\u001b[0m \u001b[32m219.1/219.1 kB\u001b[0m \u001b[31m6.5 MB/s\u001b[0m eta \u001b[36m0:00:00\u001b[0m\n",
            "\u001b[?25hRequirement already satisfied: filelock in /usr/local/lib/python3.10/dist-packages (from torch>=1.13.0->peft) (3.12.0)\n",
            "Requirement already satisfied: typing-extensions in /usr/local/lib/python3.10/dist-packages (from torch>=1.13.0->peft) (4.5.0)\n",
            "Requirement already satisfied: sympy in /usr/local/lib/python3.10/dist-packages (from torch>=1.13.0->peft) (1.11.1)\n",
            "Requirement already satisfied: networkx in /usr/local/lib/python3.10/dist-packages (from torch>=1.13.0->peft) (3.1)\n",
            "Requirement already satisfied: jinja2 in /usr/local/lib/python3.10/dist-packages (from torch>=1.13.0->peft) (3.1.2)\n",
            "Requirement already satisfied: triton==2.0.0 in /usr/local/lib/python3.10/dist-packages (from torch>=1.13.0->peft) (2.0.0)\n",
            "Requirement already satisfied: cmake in /usr/local/lib/python3.10/dist-packages (from triton==2.0.0->torch>=1.13.0->peft) (3.25.2)\n",
            "Requirement already satisfied: lit in /usr/local/lib/python3.10/dist-packages (from triton==2.0.0->torch>=1.13.0->peft) (16.0.5)\n",
            "Requirement already satisfied: huggingface-hub<1.0,>=0.11.0 in /usr/local/lib/python3.10/dist-packages (from transformers->peft) (0.14.1)\n",
            "Requirement already satisfied: regex!=2019.12.17 in /usr/local/lib/python3.10/dist-packages (from transformers->peft) (2022.10.31)\n",
            "Requirement already satisfied: requests in /usr/local/lib/python3.10/dist-packages (from transformers->peft) (2.27.1)\n",
            "Requirement already satisfied: tokenizers!=0.11.3,<0.14,>=0.11.1 in /usr/local/lib/python3.10/dist-packages (from transformers->peft) (0.13.3)\n",
            "Requirement already satisfied: tqdm>=4.27 in /usr/local/lib/python3.10/dist-packages (from transformers->peft) (4.65.0)\n",
            "Requirement already satisfied: fsspec in /usr/local/lib/python3.10/dist-packages (from huggingface-hub<1.0,>=0.11.0->transformers->peft) (2023.4.0)\n",
            "Requirement already satisfied: MarkupSafe>=2.0 in /usr/local/lib/python3.10/dist-packages (from jinja2->torch>=1.13.0->peft) (2.1.2)\n",
            "Requirement already satisfied: urllib3<1.27,>=1.21.1 in /usr/local/lib/python3.10/dist-packages (from requests->transformers->peft) (1.26.15)\n",
            "Requirement already satisfied: certifi>=2017.4.17 in /usr/local/lib/python3.10/dist-packages (from requests->transformers->peft) (2022.12.7)\n",
            "Requirement already satisfied: charset-normalizer~=2.0.0 in /usr/local/lib/python3.10/dist-packages (from requests->transformers->peft) (2.0.12)\n",
            "Requirement already satisfied: idna<4,>=2.5 in /usr/local/lib/python3.10/dist-packages (from requests->transformers->peft) (3.4)\n",
            "Requirement already satisfied: mpmath>=0.19 in /usr/local/lib/python3.10/dist-packages (from sympy->torch>=1.13.0->peft) (1.3.0)\n",
            "Building wheels for collected packages: peft\n",
            "  Building wheel for peft (pyproject.toml) ... \u001b[?25l\u001b[?25hdone\n",
            "  Created wheel for peft: filename=peft-0.3.0.dev0-py3-none-any.whl size=41648 sha256=3c87da1a98945109158d2015606476a0d45d425053bf3ecee01ea6d70a31c3d6\n",
            "  Stored in directory: /root/.cache/pip/wheels/11/cb/7a/726521b9c9e1b5a9ab55a072bbc944f01d14e38a3bc81c5e3e\n",
            "Successfully built peft\n",
            "Installing collected packages: accelerate, peft\n",
            "Successfully installed accelerate-0.19.0 peft-0.3.0.dev0\n",
            "Looking in indexes: https://pypi.org/simple, https://us-python.pkg.dev/colab-wheels/public/simple/\n",
            "Collecting datasets==2.10.1\n",
            "  Downloading datasets-2.10.1-py3-none-any.whl (469 kB)\n",
            "\u001b[2K     \u001b[90m━━━━━━━━━━━━━━━━━━━━━━━━━━━━━━━━━━━━━━\u001b[0m \u001b[32m469.0/469.0 kB\u001b[0m \u001b[31m10.2 MB/s\u001b[0m eta \u001b[36m0:00:00\u001b[0m\n",
            "\u001b[?25hRequirement already satisfied: numpy>=1.17 in /usr/local/lib/python3.10/dist-packages (from datasets==2.10.1) (1.22.4)\n",
            "Requirement already satisfied: pyarrow>=6.0.0 in /usr/local/lib/python3.10/dist-packages (from datasets==2.10.1) (9.0.0)\n",
            "Collecting dill<0.3.7,>=0.3.0 (from datasets==2.10.1)\n",
            "  Downloading dill-0.3.6-py3-none-any.whl (110 kB)\n",
            "\u001b[2K     \u001b[90m━━━━━━━━━━━━━━━━━━━━━━━━━━━━━━━━━━━━━━\u001b[0m \u001b[32m110.5/110.5 kB\u001b[0m \u001b[31m13.6 MB/s\u001b[0m eta \u001b[36m0:00:00\u001b[0m\n",
            "\u001b[?25hRequirement already satisfied: pandas in /usr/local/lib/python3.10/dist-packages (from datasets==2.10.1) (1.5.3)\n",
            "Requirement already satisfied: requests>=2.19.0 in /usr/local/lib/python3.10/dist-packages (from datasets==2.10.1) (2.27.1)\n",
            "Requirement already satisfied: tqdm>=4.62.1 in /usr/local/lib/python3.10/dist-packages (from datasets==2.10.1) (4.65.0)\n",
            "Collecting xxhash (from datasets==2.10.1)\n",
            "  Downloading xxhash-3.2.0-cp310-cp310-manylinux_2_17_x86_64.manylinux2014_x86_64.whl (212 kB)\n",
            "\u001b[2K     \u001b[90m━━━━━━━━━━━━━━━━━━━━━━━━━━━━━━━━━━━━━━\u001b[0m \u001b[32m212.5/212.5 kB\u001b[0m \u001b[31m20.5 MB/s\u001b[0m eta \u001b[36m0:00:00\u001b[0m\n",
            "\u001b[?25hCollecting multiprocess (from datasets==2.10.1)\n",
            "  Downloading multiprocess-0.70.14-py310-none-any.whl (134 kB)\n",
            "\u001b[2K     \u001b[90m━━━━━━━━━━━━━━━━━━━━━━━━━━━━━━━━━━━━━━\u001b[0m \u001b[32m134.3/134.3 kB\u001b[0m \u001b[31m17.7 MB/s\u001b[0m eta \u001b[36m0:00:00\u001b[0m\n",
            "\u001b[?25hRequirement already satisfied: fsspec[http]>=2021.11.1 in /usr/local/lib/python3.10/dist-packages (from datasets==2.10.1) (2023.4.0)\n",
            "Collecting aiohttp (from datasets==2.10.1)\n",
            "  Downloading aiohttp-3.8.4-cp310-cp310-manylinux_2_17_x86_64.manylinux2014_x86_64.whl (1.0 MB)\n",
            "\u001b[2K     \u001b[90m━━━━━━━━━━━━━━━━━━━━━━━━━━━━━━━━━━━━━━━━\u001b[0m \u001b[32m1.0/1.0 MB\u001b[0m \u001b[31m42.2 MB/s\u001b[0m eta \u001b[36m0:00:00\u001b[0m\n",
            "\u001b[?25hRequirement already satisfied: huggingface-hub<1.0.0,>=0.2.0 in /usr/local/lib/python3.10/dist-packages (from datasets==2.10.1) (0.14.1)\n",
            "Requirement already satisfied: packaging in /usr/local/lib/python3.10/dist-packages (from datasets==2.10.1) (23.1)\n",
            "Collecting responses<0.19 (from datasets==2.10.1)\n",
            "  Downloading responses-0.18.0-py3-none-any.whl (38 kB)\n",
            "Requirement already satisfied: pyyaml>=5.1 in /usr/local/lib/python3.10/dist-packages (from datasets==2.10.1) (6.0)\n",
            "Requirement already satisfied: attrs>=17.3.0 in /usr/local/lib/python3.10/dist-packages (from aiohttp->datasets==2.10.1) (23.1.0)\n",
            "Requirement already satisfied: charset-normalizer<4.0,>=2.0 in /usr/local/lib/python3.10/dist-packages (from aiohttp->datasets==2.10.1) (2.0.12)\n",
            "Collecting multidict<7.0,>=4.5 (from aiohttp->datasets==2.10.1)\n",
            "  Downloading multidict-6.0.4-cp310-cp310-manylinux_2_17_x86_64.manylinux2014_x86_64.whl (114 kB)\n",
            "\u001b[2K     \u001b[90m━━━━━━━━━━━━━━━━━━━━━━━━━━━━━━━━━━━━━━\u001b[0m \u001b[32m114.5/114.5 kB\u001b[0m \u001b[31m13.3 MB/s\u001b[0m eta \u001b[36m0:00:00\u001b[0m\n",
            "\u001b[?25hCollecting async-timeout<5.0,>=4.0.0a3 (from aiohttp->datasets==2.10.1)\n",
            "  Downloading async_timeout-4.0.2-py3-none-any.whl (5.8 kB)\n",
            "Collecting yarl<2.0,>=1.0 (from aiohttp->datasets==2.10.1)\n",
            "  Downloading yarl-1.9.2-cp310-cp310-manylinux_2_17_x86_64.manylinux2014_x86_64.whl (268 kB)\n",
            "\u001b[2K     \u001b[90m━━━━━━━━━━━━━━━━━━━━━━━━━━━━━━━━━━━━━━\u001b[0m \u001b[32m268.8/268.8 kB\u001b[0m \u001b[31m26.0 MB/s\u001b[0m eta \u001b[36m0:00:00\u001b[0m\n",
            "\u001b[?25hCollecting frozenlist>=1.1.1 (from aiohttp->datasets==2.10.1)\n",
            "  Downloading frozenlist-1.3.3-cp310-cp310-manylinux_2_5_x86_64.manylinux1_x86_64.manylinux_2_17_x86_64.manylinux2014_x86_64.whl (149 kB)\n",
            "\u001b[2K     \u001b[90m━━━━━━━━━━━━━━━━━━━━━━━━━━━━━━━━━━━━━━\u001b[0m \u001b[32m149.6/149.6 kB\u001b[0m \u001b[31m21.7 MB/s\u001b[0m eta \u001b[36m0:00:00\u001b[0m\n",
            "\u001b[?25hCollecting aiosignal>=1.1.2 (from aiohttp->datasets==2.10.1)\n",
            "  Downloading aiosignal-1.3.1-py3-none-any.whl (7.6 kB)\n",
            "Requirement already satisfied: filelock in /usr/local/lib/python3.10/dist-packages (from huggingface-hub<1.0.0,>=0.2.0->datasets==2.10.1) (3.12.0)\n",
            "Requirement already satisfied: typing-extensions>=3.7.4.3 in /usr/local/lib/python3.10/dist-packages (from huggingface-hub<1.0.0,>=0.2.0->datasets==2.10.1) (4.5.0)\n",
            "Requirement already satisfied: urllib3<1.27,>=1.21.1 in /usr/local/lib/python3.10/dist-packages (from requests>=2.19.0->datasets==2.10.1) (1.26.15)\n",
            "Requirement already satisfied: certifi>=2017.4.17 in /usr/local/lib/python3.10/dist-packages (from requests>=2.19.0->datasets==2.10.1) (2022.12.7)\n",
            "Requirement already satisfied: idna<4,>=2.5 in /usr/local/lib/python3.10/dist-packages (from requests>=2.19.0->datasets==2.10.1) (3.4)\n",
            "Requirement already satisfied: python-dateutil>=2.8.1 in /usr/local/lib/python3.10/dist-packages (from pandas->datasets==2.10.1) (2.8.2)\n",
            "Requirement already satisfied: pytz>=2020.1 in /usr/local/lib/python3.10/dist-packages (from pandas->datasets==2.10.1) (2022.7.1)\n",
            "Requirement already satisfied: six>=1.5 in /usr/local/lib/python3.10/dist-packages (from python-dateutil>=2.8.1->pandas->datasets==2.10.1) (1.16.0)\n",
            "Installing collected packages: xxhash, multidict, frozenlist, dill, async-timeout, yarl, responses, multiprocess, aiosignal, aiohttp, datasets\n",
            "Successfully installed aiohttp-3.8.4 aiosignal-1.3.1 async-timeout-4.0.2 datasets-2.10.1 dill-0.3.6 frozenlist-1.3.3 multidict-6.0.4 multiprocess-0.70.14 responses-0.18.0 xxhash-3.2.0 yarl-1.9.2\n"
          ]
        }
      ]
    },
    {
      "cell_type": "markdown",
      "source": [
        "##2 Clone llmtune source code and install."
      ],
      "metadata": {
        "id": "KzwzDxE61FXt"
      }
    },
    {
      "cell_type": "code",
      "source": [
        "!rm -rf llmtune && git clone https://github.com/wyklq/llmtune && cd llmtune && python setup.py install\n"
      ],
      "metadata": {
        "id": "ffVWiRI81Qfy"
      },
      "execution_count": null,
      "outputs": []
    },
    {
      "cell_type": "markdown",
      "source": [
        "Download pre-trained and quantized model file and test if text generate with original llama-13b 4bit quantized model works"
      ],
      "metadata": {
        "id": "lp2kBkQJ1nGn"
      }
    },
    {
      "cell_type": "code",
      "source": [
        "!wget https://huggingface.co/kuleshov/llama-13b-4bit/resolve/main/llama-13b-4bit.pt"
      ],
      "metadata": {
        "colab": {
          "base_uri": "https://localhost:8080/"
        },
        "id": "c-msieHq1x4q",
        "outputId": "e88035b9-ab96-4a55-ce81-8ab6934633aa"
      },
      "execution_count": null,
      "outputs": [
        {
          "output_type": "stream",
          "name": "stdout",
          "text": [
            "--2023-05-20 06:33:28--  https://huggingface.co/kuleshov/llama-13b-4bit/resolve/main/llama-13b-4bit.pt\n",
            "Resolving huggingface.co (huggingface.co)... 99.84.191.118, 99.84.191.66, 99.84.191.42, ...\n",
            "Connecting to huggingface.co (huggingface.co)|99.84.191.118|:443... connected.\n",
            "HTTP request sent, awaiting response... 302 Found\n",
            "Location: https://cdn-lfs.huggingface.co/repos/5d/fe/5dfe252b94712f657ec0467f7dbddf7852ea12f46ffac06e5efd8b771608707b/56956757a1cf930a1881e7ade7bc4cdd243d88517b7d82cb06c01f11463caf38?response-content-disposition=attachment%3B+filename*%3DUTF-8%27%27llama-13b-4bit.pt%3B+filename%3D%22llama-13b-4bit.pt%22%3B&Expires=1684823609&Policy=eyJTdGF0ZW1lbnQiOlt7IlJlc291cmNlIjoiaHR0cHM6Ly9jZG4tbGZzLmh1Z2dpbmdmYWNlLmNvL3JlcG9zLzVkL2ZlLzVkZmUyNTJiOTQ3MTJmNjU3ZWMwNDY3ZjdkYmRkZjc4NTJlYTEyZjQ2ZmZhYzA2ZTVlZmQ4Yjc3MTYwODcwN2IvNTY5NTY3NTdhMWNmOTMwYTE4ODFlN2FkZTdiYzRjZGQyNDNkODg1MTdiN2Q4MmNiMDZjMDFmMTE0NjNjYWYzOD9yZXNwb25zZS1jb250ZW50LWRpc3Bvc2l0aW9uPSoiLCJDb25kaXRpb24iOnsiRGF0ZUxlc3NUaGFuIjp7IkFXUzpFcG9jaFRpbWUiOjE2ODQ4MjM2MDl9fX1dfQ__&Signature=KHYnF1NvedLslSgscLlKUAS5AGoYj8R5SyUcEUEjTI0nL9-hwaVD4LEx1p67m4BYUdOG2YV6iUCx1n8BgysTP-7C6BiYCz%7EXzokWosCCSVZwGQae6jIOa4yTBSKvHGgaqGKIOSaoQicsl6HUIXoLiZw%7EFqzWTvlisy7RGdOs73L7zbPBqHAw418v9S8oLEr3j4MilnlfT%7EOwCiTmTbvALXrd5n7yx4BFrw-fkrCgYDxGLjk7LS2qj5xs2eCFutGl%7E%7E4Hey36-QvpcFP%7EsKKrLF1FTJYfz5ZhHb5cy%7Ez2eunLUdymvc9cWIe9qYGzREfsvArj7xRn4w7Ad3Q3f8luwg__&Key-Pair-Id=KVTP0A1DKRTAX [following]\n",
            "--2023-05-20 06:33:28--  https://cdn-lfs.huggingface.co/repos/5d/fe/5dfe252b94712f657ec0467f7dbddf7852ea12f46ffac06e5efd8b771608707b/56956757a1cf930a1881e7ade7bc4cdd243d88517b7d82cb06c01f11463caf38?response-content-disposition=attachment%3B+filename*%3DUTF-8%27%27llama-13b-4bit.pt%3B+filename%3D%22llama-13b-4bit.pt%22%3B&Expires=1684823609&Policy=eyJTdGF0ZW1lbnQiOlt7IlJlc291cmNlIjoiaHR0cHM6Ly9jZG4tbGZzLmh1Z2dpbmdmYWNlLmNvL3JlcG9zLzVkL2ZlLzVkZmUyNTJiOTQ3MTJmNjU3ZWMwNDY3ZjdkYmRkZjc4NTJlYTEyZjQ2ZmZhYzA2ZTVlZmQ4Yjc3MTYwODcwN2IvNTY5NTY3NTdhMWNmOTMwYTE4ODFlN2FkZTdiYzRjZGQyNDNkODg1MTdiN2Q4MmNiMDZjMDFmMTE0NjNjYWYzOD9yZXNwb25zZS1jb250ZW50LWRpc3Bvc2l0aW9uPSoiLCJDb25kaXRpb24iOnsiRGF0ZUxlc3NUaGFuIjp7IkFXUzpFcG9jaFRpbWUiOjE2ODQ4MjM2MDl9fX1dfQ__&Signature=KHYnF1NvedLslSgscLlKUAS5AGoYj8R5SyUcEUEjTI0nL9-hwaVD4LEx1p67m4BYUdOG2YV6iUCx1n8BgysTP-7C6BiYCz%7EXzokWosCCSVZwGQae6jIOa4yTBSKvHGgaqGKIOSaoQicsl6HUIXoLiZw%7EFqzWTvlisy7RGdOs73L7zbPBqHAw418v9S8oLEr3j4MilnlfT%7EOwCiTmTbvALXrd5n7yx4BFrw-fkrCgYDxGLjk7LS2qj5xs2eCFutGl%7E%7E4Hey36-QvpcFP%7EsKKrLF1FTJYfz5ZhHb5cy%7Ez2eunLUdymvc9cWIe9qYGzREfsvArj7xRn4w7Ad3Q3f8luwg__&Key-Pair-Id=KVTP0A1DKRTAX\n",
            "Resolving cdn-lfs.huggingface.co (cdn-lfs.huggingface.co)... 108.139.29.117, 108.139.29.38, 108.139.29.114, ...\n",
            "Connecting to cdn-lfs.huggingface.co (cdn-lfs.huggingface.co)|108.139.29.117|:443... connected.\n",
            "HTTP request sent, awaiting response... 200 OK\n",
            "Length: 7026076074 (6.5G) [binary/octet-stream]\n",
            "Saving to: ‘llama-13b-4bit.pt’\n",
            "\n",
            "llama-13b-4bit.pt   100%[===================>]   6.54G  59.0MB/s    in 2m 4s   \n",
            "\n",
            "2023-05-20 06:35:33 (54.0 MB/s) - ‘llama-13b-4bit.pt’ saved [7026076074/7026076074]\n",
            "\n",
            "2023-05-20 06:35:39.418752: W tensorflow/compiler/tf2tensorrt/utils/py_utils.cc:38] TF-TRT Warning: Could not find TensorRT\n",
            "Downloading (…)lve/main/config.json: 100% 427/427 [00:00<00:00, 2.67MB/s]\n",
            "^C\n"
          ]
        }
      ]
    },
    {
      "cell_type": "code",
      "source": [
        "!wget https://huggingface.co/kuleshov/llama-7b-4bit/resolve/main/llama-7b-4bit.pt"
      ],
      "metadata": {
        "colab": {
          "base_uri": "https://localhost:8080/"
        },
        "id": "z45q2Gyx75IU",
        "outputId": "e219dc5f-7a55-43fb-e4b9-b2626a4c7dcc"
      },
      "execution_count": null,
      "outputs": [
        {
          "output_type": "stream",
          "name": "stdout",
          "text": [
            "--2023-05-20 06:53:54--  https://huggingface.co/kuleshov/llama-7b-4bit/resolve/main/llama-7b-4bit.pt\n",
            "Resolving huggingface.co (huggingface.co)... 99.84.191.107, 99.84.191.42, 99.84.191.66, ...\n",
            "Connecting to huggingface.co (huggingface.co)|99.84.191.107|:443... connected.\n",
            "HTTP request sent, awaiting response... 404 Not Found\n",
            "2023-05-20 06:53:54 ERROR 404: Not Found.\n",
            "\n"
          ]
        }
      ]
    },
    {
      "cell_type": "markdown",
      "source": [
        "Download a dataset, and get the first 50 records."
      ],
      "metadata": {
        "id": "LKSlS1mA2NW8"
      }
    },
    {
      "cell_type": "code",
      "source": [
        "!llmtune finetune --model llama-7b-4bit --weights llama-13b-4bit.pt --dataset llmtune/dataset_50cnalpaca.json --adapter llmtune"
      ],
      "metadata": {
        "colab": {
          "base_uri": "https://localhost:8080/"
        },
        "id": "kAvGxSs74ANP",
        "outputId": "7d8ebd8a-b2e5-4236-e728-b15ca964436b"
      },
      "execution_count": null,
      "outputs": [
        {
          "output_type": "stream",
          "name": "stdout",
          "text": [
            "Traceback (most recent call last):\n",
            "  File \"/usr/local/bin/llmtune\", line 33, in <module>\n",
            "    sys.exit(load_entry_point('llmtune==0.1.0', 'console_scripts', 'llmtune')())\n",
            "  File \"/usr/local/lib/python3.10/dist-packages/llmtune-0.1.0-py3.10-linux-x86_64.egg/llmtune/run.py\", line 101, in main\n",
            "    args.func(args)\n",
            "  File \"/usr/local/lib/python3.10/dist-packages/llmtune-0.1.0-py3.10-linux-x86_64.egg/llmtune/run.py\", line 142, in finetune\n",
            "    from llmtune.executor import load_llm\n",
            "  File \"/usr/local/lib/python3.10/dist-packages/llmtune-0.1.0-py3.10-linux-x86_64.egg/llmtune/executor.py\", line 7, in <module>\n",
            "    from llmtune.engine.data import TrainTxt, TrainSAD, TrainGPT4All\n",
            "  File \"/usr/local/lib/python3.10/dist-packages/llmtune-0.1.0-py3.10-linux-x86_64.egg/llmtune/engine/data/__init__.py\", line 1, in <module>\n",
            "    from llmtune.engine.data.text import TrainTxt\n",
            "  File \"/usr/local/lib/python3.10/dist-packages/llmtune-0.1.0-py3.10-linux-x86_64.egg/llmtune/engine/data/text.py\", line 3, in <module>\n",
            "    from datasets import Dataset\n",
            "ModuleNotFoundError: No module named 'datasets'\n"
          ]
        }
      ]
    }
  ]
}